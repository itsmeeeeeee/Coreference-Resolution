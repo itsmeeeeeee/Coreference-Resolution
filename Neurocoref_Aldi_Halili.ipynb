{
  "nbformat": 4,
  "nbformat_minor": 0,
  "metadata": {
    "colab": {
      "provenance": [],
      "authorship_tag": "ABX9TyO1o3n9ChxIUcZW0YALX1zS",
      "include_colab_link": true
    },
    "kernelspec": {
      "name": "python3",
      "display_name": "Python 3"
    },
    "language_info": {
      "name": "python"
    }
  },
  "cells": [
    {
      "cell_type": "markdown",
      "metadata": {
        "id": "view-in-github",
        "colab_type": "text"
      },
      "source": [
        "<a href=\"https://colab.research.google.com/github/itsmeeeeeee/Coreference-Resolution/blob/main/Neurocoref_Aldi_Halili.ipynb\" target=\"_parent\"><img src=\"https://colab.research.google.com/assets/colab-badge.svg\" alt=\"Open In Colab\"/></a>"
      ]
    },
    {
      "cell_type": "code",
      "execution_count": null,
      "metadata": {
        "colab": {
          "base_uri": "https://localhost:8080/"
        },
        "id": "UK76H3OPglxX",
        "outputId": "3ca644bc-d92c-4fd1-ca77-3b512728d8a4"
      },
      "outputs": [
        {
          "output_type": "stream",
          "name": "stdout",
          "text": [
            "Mounted at /content/drive\n",
            "Cloning into 'neuralcoref'...\n",
            "remote: Enumerating objects: 772, done.\u001b[K\n",
            "remote: Counting objects: 100% (24/24), done.\u001b[K\n",
            "remote: Compressing objects: 100% (16/16), done.\u001b[K\n",
            "remote: Total 772 (delta 10), reused 16 (delta 7), pack-reused 748\u001b[K\n",
            "Receiving objects: 100% (772/772), 67.85 MiB | 22.71 MiB/s, done.\n",
            "Resolving deltas: 100% (407/407), done.\n",
            "/content/neuralcoref\n",
            "Looking in indexes: https://pypi.org/simple, https://us-python.pkg.dev/colab-wheels/public/simple/\n",
            "Collecting spacy<3.0.0,>=2.1.0\n",
            "  Downloading spacy-2.3.9-cp39-cp39-manylinux_2_17_x86_64.manylinux2014_x86_64.whl (4.9 MB)\n",
            "\u001b[2K     \u001b[90m━━━━━━━━━━━━━━━━━━━━━━━━━━━━━━━━━━━━━━━━\u001b[0m \u001b[32m4.9/4.9 MB\u001b[0m \u001b[31m60.5 MB/s\u001b[0m eta \u001b[36m0:00:00\u001b[0m\n",
            "\u001b[?25hRequirement already satisfied: cython>=0.25 in /usr/local/lib/python3.9/dist-packages (from -r requirements.txt (line 2)) (0.29.33)\n",
            "Requirement already satisfied: pytest in /usr/local/lib/python3.9/dist-packages (from -r requirements.txt (line 3)) (7.2.2)\n",
            "Requirement already satisfied: cymem<2.1.0,>=2.0.2 in /usr/local/lib/python3.9/dist-packages (from spacy<3.0.0,>=2.1.0->-r requirements.txt (line 1)) (2.0.7)\n",
            "Requirement already satisfied: setuptools in /usr/local/lib/python3.9/dist-packages (from spacy<3.0.0,>=2.1.0->-r requirements.txt (line 1)) (67.6.0)\n",
            "Collecting catalogue<1.1.0,>=0.0.7\n",
            "  Downloading catalogue-1.0.2-py2.py3-none-any.whl (16 kB)\n",
            "Requirement already satisfied: murmurhash<1.1.0,>=0.28.0 in /usr/local/lib/python3.9/dist-packages (from spacy<3.0.0,>=2.1.0->-r requirements.txt (line 1)) (1.0.9)\n",
            "Collecting srsly<1.1.0,>=1.0.2\n",
            "  Downloading srsly-1.0.6-cp39-cp39-manylinux_2_17_x86_64.manylinux2014_x86_64.whl (209 kB)\n",
            "\u001b[2K     \u001b[90m━━━━━━━━━━━━━━━━━━━━━━━━━━━━━━━━━━━━━━\u001b[0m \u001b[32m209.2/209.2 KB\u001b[0m \u001b[31m21.7 MB/s\u001b[0m eta \u001b[36m0:00:00\u001b[0m\n",
            "\u001b[?25hRequirement already satisfied: tqdm<5.0.0,>=4.38.0 in /usr/local/lib/python3.9/dist-packages (from spacy<3.0.0,>=2.1.0->-r requirements.txt (line 1)) (4.65.0)\n",
            "Requirement already satisfied: preshed<3.1.0,>=3.0.2 in /usr/local/lib/python3.9/dist-packages (from spacy<3.0.0,>=2.1.0->-r requirements.txt (line 1)) (3.0.8)\n",
            "Requirement already satisfied: numpy>=1.15.0 in /usr/local/lib/python3.9/dist-packages (from spacy<3.0.0,>=2.1.0->-r requirements.txt (line 1)) (1.22.4)\n",
            "Requirement already satisfied: requests<3.0.0,>=2.13.0 in /usr/local/lib/python3.9/dist-packages (from spacy<3.0.0,>=2.1.0->-r requirements.txt (line 1)) (2.27.1)\n",
            "Collecting thinc<7.5.0,>=7.4.1\n",
            "  Downloading thinc-7.4.6-cp39-cp39-manylinux_2_17_x86_64.manylinux2014_x86_64.whl (1.1 MB)\n",
            "\u001b[2K     \u001b[90m━━━━━━━━━━━━━━━━━━━━━━━━━━━━━━━━━━━━━━━━\u001b[0m \u001b[32m1.1/1.1 MB\u001b[0m \u001b[31m49.9 MB/s\u001b[0m eta \u001b[36m0:00:00\u001b[0m\n",
            "\u001b[?25hRequirement already satisfied: blis<0.8.0,>=0.4.0 in /usr/local/lib/python3.9/dist-packages (from spacy<3.0.0,>=2.1.0->-r requirements.txt (line 1)) (0.7.9)\n",
            "Collecting plac<1.2.0,>=0.9.6\n",
            "  Downloading plac-1.1.3-py2.py3-none-any.whl (20 kB)\n",
            "Collecting wasabi<1.1.0,>=0.4.0\n",
            "  Downloading wasabi-0.10.1-py3-none-any.whl (26 kB)\n",
            "Requirement already satisfied: pluggy<2.0,>=0.12 in /usr/local/lib/python3.9/dist-packages (from pytest->-r requirements.txt (line 3)) (1.0.0)\n",
            "Requirement already satisfied: exceptiongroup>=1.0.0rc8 in /usr/local/lib/python3.9/dist-packages (from pytest->-r requirements.txt (line 3)) (1.1.1)\n",
            "Requirement already satisfied: tomli>=1.0.0 in /usr/local/lib/python3.9/dist-packages (from pytest->-r requirements.txt (line 3)) (2.0.1)\n",
            "Requirement already satisfied: iniconfig in /usr/local/lib/python3.9/dist-packages (from pytest->-r requirements.txt (line 3)) (2.0.0)\n",
            "Requirement already satisfied: packaging in /usr/local/lib/python3.9/dist-packages (from pytest->-r requirements.txt (line 3)) (23.0)\n",
            "Requirement already satisfied: attrs>=19.2.0 in /usr/local/lib/python3.9/dist-packages (from pytest->-r requirements.txt (line 3)) (22.2.0)\n",
            "Requirement already satisfied: idna<4,>=2.5 in /usr/local/lib/python3.9/dist-packages (from requests<3.0.0,>=2.13.0->spacy<3.0.0,>=2.1.0->-r requirements.txt (line 1)) (3.4)\n",
            "Requirement already satisfied: urllib3<1.27,>=1.21.1 in /usr/local/lib/python3.9/dist-packages (from requests<3.0.0,>=2.13.0->spacy<3.0.0,>=2.1.0->-r requirements.txt (line 1)) (1.26.15)\n",
            "Requirement already satisfied: charset-normalizer~=2.0.0 in /usr/local/lib/python3.9/dist-packages (from requests<3.0.0,>=2.13.0->spacy<3.0.0,>=2.1.0->-r requirements.txt (line 1)) (2.0.12)\n",
            "Requirement already satisfied: certifi>=2017.4.17 in /usr/local/lib/python3.9/dist-packages (from requests<3.0.0,>=2.13.0->spacy<3.0.0,>=2.1.0->-r requirements.txt (line 1)) (2022.12.7)\n",
            "Installing collected packages: wasabi, plac, srsly, catalogue, thinc, spacy\n",
            "  Attempting uninstall: wasabi\n",
            "    Found existing installation: wasabi 1.1.1\n",
            "    Uninstalling wasabi-1.1.1:\n",
            "      Successfully uninstalled wasabi-1.1.1\n",
            "  Attempting uninstall: srsly\n",
            "    Found existing installation: srsly 2.4.6\n",
            "    Uninstalling srsly-2.4.6:\n",
            "      Successfully uninstalled srsly-2.4.6\n",
            "  Attempting uninstall: catalogue\n",
            "    Found existing installation: catalogue 2.0.8\n",
            "    Uninstalling catalogue-2.0.8:\n",
            "      Successfully uninstalled catalogue-2.0.8\n",
            "  Attempting uninstall: thinc\n",
            "    Found existing installation: thinc 8.1.9\n",
            "    Uninstalling thinc-8.1.9:\n",
            "      Successfully uninstalled thinc-8.1.9\n",
            "  Attempting uninstall: spacy\n",
            "    Found existing installation: spacy 3.5.1\n",
            "    Uninstalling spacy-3.5.1:\n",
            "      Successfully uninstalled spacy-3.5.1\n",
            "\u001b[31mERROR: pip's dependency resolver does not currently take into account all the packages that are installed. This behaviour is the source of the following dependency conflicts.\n",
            "en-core-web-sm 3.5.0 requires spacy<3.6.0,>=3.5.0, but you have spacy 2.3.9 which is incompatible.\n",
            "confection 0.0.4 requires srsly<3.0.0,>=2.4.0, but you have srsly 1.0.6 which is incompatible.\u001b[0m\u001b[31m\n",
            "\u001b[0mSuccessfully installed catalogue-1.0.2 plac-1.1.3 spacy-2.3.9 srsly-1.0.6 thinc-7.4.6 wasabi-0.10.1\n",
            "Looking in indexes: https://pypi.org/simple, https://us-python.pkg.dev/colab-wheels/public/simple/\n",
            "Obtaining file:///content/neuralcoref\n",
            "  Preparing metadata (setup.py) ... \u001b[?25l\u001b[?25hdone\n",
            "Requirement already satisfied: numpy>=1.15.0 in /usr/local/lib/python3.9/dist-packages (from neuralcoref==4.0) (1.22.4)\n",
            "Collecting boto3\n",
            "  Downloading boto3-1.26.100-py3-none-any.whl (135 kB)\n",
            "\u001b[2K     \u001b[90m━━━━━━━━━━━━━━━━━━━━━━━━━━━━━━━━━━━━━━\u001b[0m \u001b[32m135.5/135.5 KB\u001b[0m \u001b[31m11.6 MB/s\u001b[0m eta \u001b[36m0:00:00\u001b[0m\n",
            "\u001b[?25hRequirement already satisfied: requests<3.0.0,>=2.13.0 in /usr/local/lib/python3.9/dist-packages (from neuralcoref==4.0) (2.27.1)\n",
            "Requirement already satisfied: spacy<3.0.0,>=2.1.0 in /usr/local/lib/python3.9/dist-packages (from neuralcoref==4.0) (2.3.9)\n",
            "Requirement already satisfied: charset-normalizer~=2.0.0 in /usr/local/lib/python3.9/dist-packages (from requests<3.0.0,>=2.13.0->neuralcoref==4.0) (2.0.12)\n",
            "Requirement already satisfied: urllib3<1.27,>=1.21.1 in /usr/local/lib/python3.9/dist-packages (from requests<3.0.0,>=2.13.0->neuralcoref==4.0) (1.26.15)\n",
            "Requirement already satisfied: idna<4,>=2.5 in /usr/local/lib/python3.9/dist-packages (from requests<3.0.0,>=2.13.0->neuralcoref==4.0) (3.4)\n",
            "Requirement already satisfied: certifi>=2017.4.17 in /usr/local/lib/python3.9/dist-packages (from requests<3.0.0,>=2.13.0->neuralcoref==4.0) (2022.12.7)\n",
            "Requirement already satisfied: preshed<3.1.0,>=3.0.2 in /usr/local/lib/python3.9/dist-packages (from spacy<3.0.0,>=2.1.0->neuralcoref==4.0) (3.0.8)\n",
            "Requirement already satisfied: wasabi<1.1.0,>=0.4.0 in /usr/local/lib/python3.9/dist-packages (from spacy<3.0.0,>=2.1.0->neuralcoref==4.0) (0.10.1)\n",
            "Requirement already satisfied: catalogue<1.1.0,>=0.0.7 in /usr/local/lib/python3.9/dist-packages (from spacy<3.0.0,>=2.1.0->neuralcoref==4.0) (1.0.2)\n",
            "Requirement already satisfied: murmurhash<1.1.0,>=0.28.0 in /usr/local/lib/python3.9/dist-packages (from spacy<3.0.0,>=2.1.0->neuralcoref==4.0) (1.0.9)\n",
            "Requirement already satisfied: srsly<1.1.0,>=1.0.2 in /usr/local/lib/python3.9/dist-packages (from spacy<3.0.0,>=2.1.0->neuralcoref==4.0) (1.0.6)\n",
            "Requirement already satisfied: setuptools in /usr/local/lib/python3.9/dist-packages (from spacy<3.0.0,>=2.1.0->neuralcoref==4.0) (67.6.0)\n",
            "Requirement already satisfied: thinc<7.5.0,>=7.4.1 in /usr/local/lib/python3.9/dist-packages (from spacy<3.0.0,>=2.1.0->neuralcoref==4.0) (7.4.6)\n",
            "Requirement already satisfied: blis<0.8.0,>=0.4.0 in /usr/local/lib/python3.9/dist-packages (from spacy<3.0.0,>=2.1.0->neuralcoref==4.0) (0.7.9)\n",
            "Requirement already satisfied: tqdm<5.0.0,>=4.38.0 in /usr/local/lib/python3.9/dist-packages (from spacy<3.0.0,>=2.1.0->neuralcoref==4.0) (4.65.0)\n",
            "Requirement already satisfied: cymem<2.1.0,>=2.0.2 in /usr/local/lib/python3.9/dist-packages (from spacy<3.0.0,>=2.1.0->neuralcoref==4.0) (2.0.7)\n",
            "Requirement already satisfied: plac<1.2.0,>=0.9.6 in /usr/local/lib/python3.9/dist-packages (from spacy<3.0.0,>=2.1.0->neuralcoref==4.0) (1.1.3)\n",
            "Collecting botocore<1.30.0,>=1.29.100\n",
            "  Downloading botocore-1.29.100-py3-none-any.whl (10.6 MB)\n",
            "\u001b[2K     \u001b[90m━━━━━━━━━━━━━━━━━━━━━━━━━━━━━━━━━━━━━━━━\u001b[0m \u001b[32m10.6/10.6 MB\u001b[0m \u001b[31m79.1 MB/s\u001b[0m eta \u001b[36m0:00:00\u001b[0m\n",
            "\u001b[?25hCollecting s3transfer<0.7.0,>=0.6.0\n",
            "  Downloading s3transfer-0.6.0-py3-none-any.whl (79 kB)\n",
            "\u001b[2K     \u001b[90m━━━━━━━━━━━━━━━━━━━━━━━━━━━━━━━━━━━━━━━━\u001b[0m \u001b[32m79.6/79.6 KB\u001b[0m \u001b[31m9.6 MB/s\u001b[0m eta \u001b[36m0:00:00\u001b[0m\n",
            "\u001b[?25hCollecting jmespath<2.0.0,>=0.7.1\n",
            "  Downloading jmespath-1.0.1-py3-none-any.whl (20 kB)\n",
            "Requirement already satisfied: python-dateutil<3.0.0,>=2.1 in /usr/local/lib/python3.9/dist-packages (from botocore<1.30.0,>=1.29.100->boto3->neuralcoref==4.0) (2.8.2)\n",
            "Requirement already satisfied: six>=1.5 in /usr/local/lib/python3.9/dist-packages (from python-dateutil<3.0.0,>=2.1->botocore<1.30.0,>=1.29.100->boto3->neuralcoref==4.0) (1.16.0)\n",
            "Installing collected packages: jmespath, botocore, s3transfer, boto3, neuralcoref\n",
            "  Running setup.py develop for neuralcoref\n",
            "Successfully installed boto3-1.26.100 botocore-1.29.100 jmespath-1.0.1 neuralcoref-4.0 s3transfer-0.6.0\n"
          ]
        }
      ],
      "source": [
        "from google.colab import drive\n",
        "drive.mount('/content/drive')\n",
        "\n",
        "!git clone https://github.com/huggingface/neuralcoref.git\n",
        "\n",
        "%cd neuralcoref\n",
        "\n",
        "!pip install -r requirements.txt\n",
        "!pip install -e ."
      ]
    },
    {
      "cell_type": "code",
      "source": [
        "!pip install matplotlib"
      ],
      "metadata": {
        "id": "Xe4KQ0thJnHO",
        "colab": {
          "base_uri": "https://localhost:8080/"
        },
        "outputId": "ffaffb82-0763-4adb-e237-9ccf7c8b8eb6"
      },
      "execution_count": null,
      "outputs": [
        {
          "output_type": "stream",
          "name": "stdout",
          "text": [
            "Looking in indexes: https://pypi.org/simple, https://us-python.pkg.dev/colab-wheels/public/simple/\n",
            "Requirement already satisfied: matplotlib in /usr/local/lib/python3.9/dist-packages (3.7.1)\n",
            "Requirement already satisfied: packaging>=20.0 in /usr/local/lib/python3.9/dist-packages (from matplotlib) (23.0)\n",
            "Requirement already satisfied: importlib-resources>=3.2.0 in /usr/local/lib/python3.9/dist-packages (from matplotlib) (5.12.0)\n",
            "Requirement already satisfied: pyparsing>=2.3.1 in /usr/local/lib/python3.9/dist-packages (from matplotlib) (3.0.9)\n",
            "Requirement already satisfied: pillow>=6.2.0 in /usr/local/lib/python3.9/dist-packages (from matplotlib) (8.4.0)\n",
            "Requirement already satisfied: kiwisolver>=1.0.1 in /usr/local/lib/python3.9/dist-packages (from matplotlib) (1.4.4)\n",
            "Requirement already satisfied: python-dateutil>=2.7 in /usr/local/lib/python3.9/dist-packages (from matplotlib) (2.8.2)\n",
            "Requirement already satisfied: contourpy>=1.0.1 in /usr/local/lib/python3.9/dist-packages (from matplotlib) (1.0.7)\n",
            "Requirement already satisfied: numpy>=1.20 in /usr/local/lib/python3.9/dist-packages (from matplotlib) (1.22.4)\n",
            "Requirement already satisfied: cycler>=0.10 in /usr/local/lib/python3.9/dist-packages (from matplotlib) (0.11.0)\n",
            "Requirement already satisfied: fonttools>=4.22.0 in /usr/local/lib/python3.9/dist-packages (from matplotlib) (4.39.2)\n",
            "Requirement already satisfied: zipp>=3.1.0 in /usr/local/lib/python3.9/dist-packages (from importlib-resources>=3.2.0->matplotlib) (3.15.0)\n",
            "Requirement already satisfied: six>=1.5 in /usr/local/lib/python3.9/dist-packages (from python-dateutil>=2.7->matplotlib) (1.16.0)\n"
          ]
        }
      ]
    },
    {
      "cell_type": "code",
      "source": [
        "import spacy\n",
        "import neuralcoref"
      ],
      "metadata": {
        "id": "YjR56vaOgpKl",
        "colab": {
          "base_uri": "https://localhost:8080/"
        },
        "outputId": "a0770e5f-5e30-4202-c4ae-f26b8a5b1101"
      },
      "execution_count": null,
      "outputs": [
        {
          "output_type": "stream",
          "name": "stderr",
          "text": [
            "100%|██████████| 40155833/40155833 [00:02<00:00, 17116452.32B/s]\n"
          ]
        }
      ]
    },
    {
      "cell_type": "code",
      "source": [
        "!python -m spacy download en"
      ],
      "metadata": {
        "colab": {
          "base_uri": "https://localhost:8080/"
        },
        "id": "Y1y_d-prgvmd",
        "outputId": "a22d4787-5efc-4470-a8a2-c9d5f78b929e"
      },
      "execution_count": null,
      "outputs": [
        {
          "output_type": "stream",
          "name": "stdout",
          "text": [
            "Looking in indexes: https://pypi.org/simple, https://us-python.pkg.dev/colab-wheels/public/simple/\n",
            "Collecting en_core_web_sm==2.3.1\n",
            "  Downloading https://github.com/explosion/spacy-models/releases/download/en_core_web_sm-2.3.1/en_core_web_sm-2.3.1.tar.gz (12.0 MB)\n",
            "\u001b[2K     \u001b[90m━━━━━━━━━━━━━━━━━━━━━━━━━━━━━━━━━━━━━━━━\u001b[0m \u001b[32m12.0/12.0 MB\u001b[0m \u001b[31m53.5 MB/s\u001b[0m eta \u001b[36m0:00:00\u001b[0m\n",
            "\u001b[?25h  Preparing metadata (setup.py) ... \u001b[?25l\u001b[?25hdone\n",
            "Requirement already satisfied: spacy<2.4.0,>=2.3.0 in /usr/local/lib/python3.9/dist-packages (from en_core_web_sm==2.3.1) (2.3.9)\n",
            "Requirement already satisfied: wasabi<1.1.0,>=0.4.0 in /usr/local/lib/python3.9/dist-packages (from spacy<2.4.0,>=2.3.0->en_core_web_sm==2.3.1) (0.10.1)\n",
            "Requirement already satisfied: requests<3.0.0,>=2.13.0 in /usr/local/lib/python3.9/dist-packages (from spacy<2.4.0,>=2.3.0->en_core_web_sm==2.3.1) (2.27.1)\n",
            "Requirement already satisfied: murmurhash<1.1.0,>=0.28.0 in /usr/local/lib/python3.9/dist-packages (from spacy<2.4.0,>=2.3.0->en_core_web_sm==2.3.1) (1.0.9)\n",
            "Requirement already satisfied: catalogue<1.1.0,>=0.0.7 in /usr/local/lib/python3.9/dist-packages (from spacy<2.4.0,>=2.3.0->en_core_web_sm==2.3.1) (1.0.2)\n",
            "Requirement already satisfied: cymem<2.1.0,>=2.0.2 in /usr/local/lib/python3.9/dist-packages (from spacy<2.4.0,>=2.3.0->en_core_web_sm==2.3.1) (2.0.7)\n",
            "Requirement already satisfied: blis<0.8.0,>=0.4.0 in /usr/local/lib/python3.9/dist-packages (from spacy<2.4.0,>=2.3.0->en_core_web_sm==2.3.1) (0.7.9)\n",
            "Requirement already satisfied: preshed<3.1.0,>=3.0.2 in /usr/local/lib/python3.9/dist-packages (from spacy<2.4.0,>=2.3.0->en_core_web_sm==2.3.1) (3.0.8)\n",
            "Requirement already satisfied: numpy>=1.15.0 in /usr/local/lib/python3.9/dist-packages (from spacy<2.4.0,>=2.3.0->en_core_web_sm==2.3.1) (1.22.4)\n",
            "Requirement already satisfied: plac<1.2.0,>=0.9.6 in /usr/local/lib/python3.9/dist-packages (from spacy<2.4.0,>=2.3.0->en_core_web_sm==2.3.1) (1.1.3)\n",
            "Requirement already satisfied: tqdm<5.0.0,>=4.38.0 in /usr/local/lib/python3.9/dist-packages (from spacy<2.4.0,>=2.3.0->en_core_web_sm==2.3.1) (4.65.0)\n",
            "Requirement already satisfied: setuptools in /usr/local/lib/python3.9/dist-packages (from spacy<2.4.0,>=2.3.0->en_core_web_sm==2.3.1) (67.6.0)\n",
            "Requirement already satisfied: thinc<7.5.0,>=7.4.1 in /usr/local/lib/python3.9/dist-packages (from spacy<2.4.0,>=2.3.0->en_core_web_sm==2.3.1) (7.4.6)\n",
            "Requirement already satisfied: srsly<1.1.0,>=1.0.2 in /usr/local/lib/python3.9/dist-packages (from spacy<2.4.0,>=2.3.0->en_core_web_sm==2.3.1) (1.0.6)\n",
            "Requirement already satisfied: idna<4,>=2.5 in /usr/local/lib/python3.9/dist-packages (from requests<3.0.0,>=2.13.0->spacy<2.4.0,>=2.3.0->en_core_web_sm==2.3.1) (3.4)\n",
            "Requirement already satisfied: certifi>=2017.4.17 in /usr/local/lib/python3.9/dist-packages (from requests<3.0.0,>=2.13.0->spacy<2.4.0,>=2.3.0->en_core_web_sm==2.3.1) (2022.12.7)\n",
            "Requirement already satisfied: charset-normalizer~=2.0.0 in /usr/local/lib/python3.9/dist-packages (from requests<3.0.0,>=2.13.0->spacy<2.4.0,>=2.3.0->en_core_web_sm==2.3.1) (2.0.12)\n",
            "Requirement already satisfied: urllib3<1.27,>=1.21.1 in /usr/local/lib/python3.9/dist-packages (from requests<3.0.0,>=2.13.0->spacy<2.4.0,>=2.3.0->en_core_web_sm==2.3.1) (1.26.15)\n",
            "Building wheels for collected packages: en_core_web_sm\n",
            "  Building wheel for en_core_web_sm (setup.py) ... \u001b[?25l\u001b[?25hdone\n",
            "  Created wheel for en_core_web_sm: filename=en_core_web_sm-2.3.1-py3-none-any.whl size=12047102 sha256=4ad5af146ef1c29428dfeacb546d29d3cad1715d82c2d9da3f586ff5729ad36f\n",
            "  Stored in directory: /root/.cache/pip/wheels/19/d6/1c/5484b95647df5d7afaf74abde458c66c1cd427e69e801fe826\n",
            "Successfully built en_core_web_sm\n",
            "Installing collected packages: en_core_web_sm\n",
            "  Attempting uninstall: en_core_web_sm\n",
            "    Found existing installation: en-core-web-sm 3.5.0\n",
            "    Uninstalling en-core-web-sm-3.5.0:\n",
            "      Successfully uninstalled en-core-web-sm-3.5.0\n",
            "Successfully installed en_core_web_sm-2.3.1\n",
            "\u001b[38;5;2m✔ Download and installation successful\u001b[0m\n",
            "You can now load the model via spacy.load('en_core_web_sm')\n",
            "\u001b[38;5;2m✔ Linking successful\u001b[0m\n",
            "/usr/local/lib/python3.9/dist-packages/en_core_web_sm -->\n",
            "/usr/local/lib/python3.9/dist-packages/spacy/data/en\n",
            "You can now load the model via spacy.load('en')\n"
          ]
        }
      ]
    },
    {
      "cell_type": "code",
      "source": [
        "nlp = spacy.load('en')\n",
        "neuralcoref.add_to_pipe(nlp)"
      ],
      "metadata": {
        "colab": {
          "base_uri": "https://localhost:8080/"
        },
        "id": "cL68CzAMgtTf",
        "outputId": "058e56aa-5cf0-4e5c-bf12-41c647fa06d0"
      },
      "execution_count": null,
      "outputs": [
        {
          "output_type": "execute_result",
          "data": {
            "text/plain": [
              "<spacy.lang.en.English at 0x7f05fbff0c40>"
            ]
          },
          "metadata": {},
          "execution_count": 5
        }
      ]
    },
    {
      "cell_type": "code",
      "source": [
        "def create_listoftupel(predicted_output): \n",
        "  \"\"\" Diese Funktion gibt eine Liste aus Tupeln mit den Korefentpaare aus \"\"\"\n",
        "  listofpaaren=list()\n",
        "  for el in predicted_output:\n",
        "    \n",
        "    for e in el:\n",
        "      #print(str(e[0]),str(e[1]))\n",
        "      listofpaaren.append((str(e[0]),str(e[0])))\n",
        "      listofpaaren.append((str(e[0]),str(e[1])))\n",
        "  return listofpaaren\n",
        "\n",
        "\n",
        "\n",
        "def calculate_precision_recall_f_score(predicted, golden_standard):\n",
        "   \n",
        "    \"\"\" Diese Funktion berechnet die Precision, den Recall und den F-Score gegeben \n",
        "        die Liste der vorhergesagten Paare und goldenen Standardpaaren von Entitäten.\n",
        "    \"\"\"\n",
        "    # Berechnung der true positives\n",
        "    tp = 0\n",
        "    for pair in predicted:\n",
        "        if pair in golden_standard:\n",
        "            tp += 1\n",
        "    \n",
        "    # Berechnung der Precision and des recalls\n",
        "    precision = tp / len(predicted)\n",
        "    recall = tp / len(golden_standard)\n",
        "    \n",
        "    #Berechnung des F-Scores\n",
        "    f_score=2* (precision * recall) / (precision + recall)\n",
        "    return precision, recall, f_score"
      ],
      "metadata": {
        "id": "EpzhqqjZilZ9"
      },
      "execution_count": null,
      "outputs": []
    },
    {
      "cell_type": "markdown",
      "source": [
        "Folgende Phänomene werden getestet.\n",
        "\n",
        "###Anaphora mit Pronommn"
      ],
      "metadata": {
        "id": "w7LELeFrrJZH"
      }
    },
    {
      "cell_type": "code",
      "source": [
        "#Anaphora mit Pronomen\n",
        "sentence1 = nlp('My sister has a friend. she loves him.')\n",
        "sentence2 = nlp('My brother has a new girlfriend.She is a student.')\n",
        "sentence3 = nlp(\"i saw a man with a telescope. He was a doctor\")\n",
        "sentence4 = nlp(\"John has always loved learning. He is a good student\")\n",
        "sentence5 = nlp(\"The task is simply too difficult.I should have known it\")\n",
        "sentence6 = nlp(\"the music stopped, and that upset everyone.\") #the musik stopped is Antezedent, The demonstrative pronoun that is an Anapher\n",
        "sentence7 = nlp(\"Susan dropped the plate. It shattered loudly.\")\n",
        "sentence8 = nlp(\"The music was so loud that it couldn't be enjoyed.\")\n",
        "sentence9 = nlp(\"The book was too heavy for her, so she put it down.\")\n",
        "sentence10 = nlp(\"The concert was amazing. I'll never forget it\")\n",
        "\n",
        "sent=sentence1._.coref_clusters\n",
        "print(\"sentence1: \", sentence1._.coref_clusters)\n",
        "print(\"sentence1: \", sentence1._.has_coref)\n",
        "\n",
        "print(\"sentence2: \", sentence2._.coref_clusters)\n",
        "print(\"sentence2: \", sentence2._.has_coref)\n",
        "\n",
        "print(\"sentence3: \", sentence3._.coref_clusters)\n",
        "print(\"sentence3: \", sentence3._.has_coref)\n",
        "\n",
        "print(\"sentence4: \", sentence4._.coref_clusters)\n",
        "print(\"sentence4: \", sentence4._.has_coref)\n",
        "\n",
        "print(\"sentence5: \", sentence5._.coref_clusters)\n",
        "print(\"sentence5: \", sentence5._.has_coref)\n",
        "\n",
        "print(\"sentence6: \", sentence6._.coref_clusters)\n",
        "print(\"sentence6: \", sentence6._.has_coref)\n",
        "\n",
        "print(\"sentence7: \", sentence7._.coref_clusters)\n",
        "print(\"sentence7: \", sentence7._.has_coref)\n",
        "\n",
        "print(\"sentence8: \", sentence8._.coref_clusters)\n",
        "print(\"sentence8: \", sentence8._.has_coref)\n",
        "\n",
        "print(\"sentence9: \", sentence9._.coref_clusters)\n",
        "print(\"sentence9: \", sentence9._.has_coref)\n",
        "\n",
        "print(\"sentence10: \", sentence10._.coref_clusters)\n",
        "print(\"sentence10: \", sentence10._.has_coref)\n"
      ],
      "metadata": {
        "colab": {
          "base_uri": "https://localhost:8080/"
        },
        "id": "wqFzHhRfjiSa",
        "outputId": "42cd470b-db25-43e7-b54d-e35c9192072c"
      },
      "execution_count": null,
      "outputs": [
        {
          "output_type": "stream",
          "name": "stdout",
          "text": [
            "sentence1:  [My sister: [My sister, she], a friend: [a friend, him]]\n",
            "sentence1:  True\n",
            "sentence2:  [My brother: [My brother, She]]\n",
            "sentence2:  True\n",
            "sentence3:  [a man: [a man, He]]\n",
            "sentence3:  True\n",
            "sentence4:  [John: [John, He]]\n",
            "sentence4:  True\n",
            "sentence5:  [The task: [The task, it]]\n",
            "sentence5:  True\n",
            "sentence6:  []\n",
            "sentence6:  False\n",
            "sentence7:  [the plate: [the plate, It]]\n",
            "sentence7:  True\n",
            "sentence8:  [The music: [The music, it]]\n",
            "sentence8:  True\n",
            "sentence9:  [The book: [The book, it], her: [her, she]]\n",
            "sentence9:  True\n",
            "sentence10:  [The concert: [The concert, it]]\n",
            "sentence10:  True\n"
          ]
        }
      ]
    },
    {
      "cell_type": "code",
      "source": [
        "outputof10sente=[sentence1._.coref_clusters,sentence2._.coref_clusters,sentence3._.coref_clusters,sentence4._.coref_clusters,sentence5._.coref_clusters,sentence6._.coref_clusters,sentence7._.coref_clusters,sentence8._.coref_clusters,sentence9._.coref_clusters,sentence10._.coref_clusters]\n",
        "\n",
        "predicted_pairs_anaphora=create_listoftupel(outputof10sente)\n",
        "\n",
        "goldenstandart_anaphora=[(\"My sister\", \"My sister\"),(\"My sister\", \"she\"),(\"a friend\", \"a friend\"),(\"a friend\", \"him\"),\n",
        "                (\"My brother\", \"My brother\"),(\"a new girlfriend\", \"a new girlfriend\"), (\"a new girlfriend\", \"She\"),\n",
        "                (\"a man\", \"a man\"),(\"a men\",\"He\"),\n",
        "                (\"John\", \"John\"),(\"John\", \"He\"),\n",
        "                (\"The task\", \"The task\"),(\"The task\", \"it\"),\n",
        "                (\"the music\", \"the music\"),(\"the music\", \"that\"),\n",
        "                (\"the plate\", \"the plate\"),(\"the plate\", \"It\"),\n",
        "                (\"The music\", \"The music\"), (\"The music\", \"it\"),\n",
        "                ('The book', 'The book'), ('The book', 'it'), ('her', 'her'), ('her', 'she'), \n",
        "                ('The concert', 'The concert'), ('The concert', 'it')]\n",
        "\n",
        "print(predicted_pairs_anaphora)\n"
      ],
      "metadata": {
        "colab": {
          "base_uri": "https://localhost:8080/"
        },
        "id": "AISFncEi9rIR",
        "outputId": "588f6275-db33-4b78-c5dd-56031a7b6038"
      },
      "execution_count": null,
      "outputs": [
        {
          "output_type": "stream",
          "name": "stdout",
          "text": [
            "[('My sister', 'My sister'), ('My sister', 'she'), ('a friend', 'a friend'), ('a friend', 'him'), ('My brother', 'My brother'), ('My brother', 'She'), ('a man', 'a man'), ('a man', 'He'), ('John', 'John'), ('John', 'He'), ('The task', 'The task'), ('The task', 'it'), ('the plate', 'the plate'), ('the plate', 'It'), ('The music', 'The music'), ('The music', 'it'), ('The book', 'The book'), ('The book', 'it'), ('her', 'her'), ('her', 'she'), ('The concert', 'The concert'), ('The concert', 'it')]\n"
          ]
        }
      ]
    },
    {
      "cell_type": "code",
      "source": [
        "precision,recall,f_score=calculate_precision_recall_f_score(predicted_pairs_anaphora,goldenstandart_anaphora)"
      ],
      "metadata": {
        "id": "hr9M0oMW59IU"
      },
      "execution_count": null,
      "outputs": []
    },
    {
      "cell_type": "code",
      "source": [
        "print(\"Anaphora Ergebnisse: \")\n",
        "print(\"\")\n",
        "print(\"Precision: {:.2f}\".format(precision))\n",
        "print(\"Recall: {:.2f}\".format(recall))\n",
        "print(\"F-score: {:.2f}\".format(f_score))\n",
        "   "
      ],
      "metadata": {
        "id": "e6yxKMt5WklN",
        "colab": {
          "base_uri": "https://localhost:8080/"
        },
        "outputId": "c812b180-aacb-421d-f92b-6bd4aa048f80"
      },
      "execution_count": null,
      "outputs": [
        {
          "output_type": "stream",
          "name": "stdout",
          "text": [
            "Anaphora Ergebnisse: \n",
            "\n",
            "Precision: 0.91\n",
            "Recall: 0.80\n",
            "F-score: 0.85\n"
          ]
        }
      ]
    },
    {
      "cell_type": "markdown",
      "source": [
        "###Kataphora"
      ],
      "metadata": {
        "id": "J6mqAs5GrEYM"
      }
    },
    {
      "cell_type": "code",
      "source": [
        "# Kataphora\n",
        "sentence1 = nlp(\"because he is a good student, John has always loved learning\")\n",
        "sentence2 = nlp(\"A few weeks before he died, my father gave me an old cigar box filled with faded letters.\") \n",
        "sentence3 = nlp(\"After he had received his orders, the soldier left the barracks.\")\n",
        "sentence4 = nlp(\"because she has a telescope, the woman is a doctor\")\n",
        "sentence5 = nlp(\"If you want them, there are cookies in the kitchen.\") \n",
        "sentence6 = nlp(\"If you want some, here's some parmesan cheese.\")\n",
        "sentence7 = nlp(\"In their free time, the boys play video games\") \n",
        "sentence8 = nlp(\"Despite her difficulty, Wilma came to understand the point.\")\n",
        "sentence9 = nlp(\"If he wants to win the race, the runner needs to train harder\")\n",
        "sentence10 = nlp(\"Before she left for the party, the woman put on the dress she had bought last week.\")\n",
        "\n",
        "\n",
        "print(\"sentence1: \", sentence1._.coref_clusters)\n",
        "print(\"sentence1: \", sentence1._.has_coref)\n",
        "print(\"sentence2: \", sentence2._.coref_clusters)\n",
        "print(\"sentence2: \", sentence2._.has_coref)\n",
        "print(\"sentence3: \", sentence3._.coref_clusters)\n",
        "print(\"sentence3: \", sentence3._.has_coref)\n",
        "print(\"sentence4: \", sentence4._.coref_clusters)\n",
        "print(\"sentence4: \", sentence4._.has_coref)\n",
        "print(\"sentence5: \", sentence5._.coref_clusters)\n",
        "print(\"sentence5: \", sentence5._.has_coref)\n",
        "print(\"sentence6: \", sentence6._.coref_clusters)\n",
        "print(\"sentence6: \", sentence6._.has_coref)\n",
        "print(\"sentence7: \", sentence7._.coref_clusters)\n",
        "print(\"sentence7: \", sentence7._.has_coref)\n",
        "print(\"sentence8: \", sentence8._.coref_clusters)\n",
        "print(\"sentence8: \", sentence8._.has_coref)\n",
        "print(\"sentence9: \", sentence9._.coref_clusters)\n",
        "print(\"sentence9: \", sentence9._.has_coref)\n",
        "print(\"sentence10: \", sentence10._.coref_clusters)\n",
        "print(\"sentence10: \", sentence10._.has_coref)\n"
      ],
      "metadata": {
        "colab": {
          "base_uri": "https://localhost:8080/"
        },
        "id": "28mT-OQNt2iQ",
        "outputId": "c3269d17-1f09-41dc-b84c-72fffc1cb21a"
      },
      "execution_count": null,
      "outputs": [
        {
          "output_type": "stream",
          "name": "stdout",
          "text": [
            "sentence1:  [John: [he, John]]\n",
            "sentence1:  True\n",
            "sentence2:  []\n",
            "sentence2:  False\n",
            "sentence3:  [he: [he, his]]\n",
            "sentence3:  True\n",
            "sentence4:  [the woman: [she, the woman]]\n",
            "sentence4:  True\n",
            "sentence5:  []\n",
            "sentence5:  False\n",
            "sentence6:  []\n",
            "sentence6:  False\n",
            "sentence7:  []\n",
            "sentence7:  False\n",
            "sentence8:  [Wilma: [her, Wilma]]\n",
            "sentence8:  True\n",
            "sentence9:  []\n",
            "sentence9:  False\n",
            "sentence10:  [the woman: [she, the woman, she]]\n",
            "sentence10:  True\n"
          ]
        }
      ]
    },
    {
      "cell_type": "code",
      "source": [
        "outputof10sente=[sentence1._.coref_clusters,sentence2._.coref_clusters,sentence3._.coref_clusters,sentence4._.coref_clusters,sentence5._.coref_clusters,sentence6._.coref_clusters,sentence7._.coref_clusters,sentence8._.coref_clusters,sentence9._.coref_clusters,sentence10._.coref_clusters]\n",
        "\n",
        "predicted_pairs_kataphora=create_listoftupel(outputof10sente)\n",
        "\n",
        "goldenstandart_kataphora=[('he', 'he'), ('he', 'John'),\n",
        "                               ('he', 'he'), ('he', 'my father'),\n",
        "                               (\"he\", \"he\"),(\"he\", \"the soldier\"),\n",
        "                               ('she', 'she'), ('she', 'the woman'),\n",
        "                               (\"them\",\"them\"),(\"them\",\"cookies\"),\n",
        "                               (\"some\",\"some\"),(\"some\",\"cheese\"),\n",
        "                               (\"thier\",\"their\"),(\"their\",\"the boys\"),\n",
        "                               ('her', 'her'), ('her', 'Wilma'),\n",
        "                               ('he', 'he'), ('he', 'the runner'), \n",
        "                               ('she', 'she'), ('she', 'the woman')]\n",
        "\n",
        "\n",
        "print(predicted_pairs_kataphora)"
      ],
      "metadata": {
        "colab": {
          "base_uri": "https://localhost:8080/"
        },
        "id": "2DRJIoc0PsJA",
        "outputId": "bd096e9f-f5af-49fa-cd75-425c694d447e"
      },
      "execution_count": null,
      "outputs": [
        {
          "output_type": "stream",
          "name": "stdout",
          "text": [
            "[('he', 'he'), ('he', 'John'), ('he', 'he'), ('he', 'his'), ('she', 'she'), ('she', 'the woman'), ('her', 'her'), ('her', 'Wilma'), ('she', 'she'), ('she', 'the woman')]\n"
          ]
        }
      ]
    },
    {
      "cell_type": "code",
      "source": [
        "precision,recall,f_score=calculate_precision_recall_f_score(predicted_pairs_kataphora,goldenstandart_kataphora)"
      ],
      "metadata": {
        "id": "nhyenWvjXXxo"
      },
      "execution_count": null,
      "outputs": []
    },
    {
      "cell_type": "code",
      "source": [
        "print(\"Kataphora Ergebnisse:\" )\n",
        "print(\"\")\n",
        "print(\"Precision: {:.2f}\".format(precision))\n",
        "print(\"Recall: {:.2f}\".format(recall))\n",
        "print(\"F-score: {:.2f}\".format(f_score))"
      ],
      "metadata": {
        "colab": {
          "base_uri": "https://localhost:8080/"
        },
        "id": "Mz7ue6G-WBGI",
        "outputId": "b63e2c4f-1563-4ff9-d890-05711239c785"
      },
      "execution_count": null,
      "outputs": [
        {
          "output_type": "stream",
          "name": "stdout",
          "text": [
            "Kataphora Ergebnisse:\n",
            "\n",
            "Precision: 0.90\n",
            "Recall: 0.45\n",
            "F-score: 0.60\n"
          ]
        }
      ]
    },
    {
      "cell_type": "markdown",
      "source": [
        "###Gebundene Variablen (bound anaphors)\n",
        "\n"
      ],
      "metadata": {
        "id": "PFlfdgQiq6uh"
      }
    },
    {
      "cell_type": "code",
      "source": [
        "#Gebundene Variablen (bound anaphors)\n",
        "\t\n",
        "sentence1 = nlp(\"Every student has received his grade.\")\n",
        "sentence2 = nlp(\"No student was upset with his grade\")\n",
        "sentence3 = nlp(\"The dancer hurt herself\")\n",
        "sentence4 = nlp(\"Every dancer brought her left arm forward.\") \n",
        "sentence5 = nlp(\"every european country is dealing with financial problems due to inflation in its way\")\n",
        "sentence6 = nlp(\"Most computational linguists prefer their own parsers\")\n",
        "sentence7 = nlp(\"The child wondered to themselves what they wanted to be when they grew up.\")\n",
        "sentence8 = nlp(\"The students challenged themselves to finish the project by the end of the week.\")\n",
        "sentence9 = nlp(\"The driver hit the curb and damaged the car itself.\")\n",
        "sentence10 = nlp(\"One should always do their best.\")\n",
        "\n",
        "\n",
        "print(\"sentence1: \", sentence1._.coref_clusters)\n",
        "print(\"sentence1: \", sentence1._.has_coref)\n",
        "print(\"sentence2: \", sentence2._.coref_clusters)\n",
        "print(\"sentence2: \", sentence2._.has_coref)\n",
        "print(\"sentence3: \", sentence3._.coref_clusters)\n",
        "print(\"sentence3: \", sentence3._.has_coref)\n",
        "print(\"sentence4: \", sentence4._.coref_clusters)\n",
        "print(\"sentence4: \", sentence4._.has_coref)\n",
        "print(\"sentence5: \", sentence5._.coref_clusters)\n",
        "print(\"sentence5: \", sentence5._.has_coref)\n",
        "print(\"sentence6: \", sentence6._.coref_clusters)\n",
        "print(\"sentence6: \", sentence6._.has_coref)\n",
        "print(\"sentence7: \", sentence7._.coref_clusters)\n",
        "print(\"sentence7: \", sentence7._.has_coref)\n",
        "print(\"sentence8: \", sentence8._.coref_clusters)\n",
        "print(\"sentence8: \", sentence8._.has_coref)\n",
        "print(\"sentence9: \", sentence9._.coref_clusters)\n",
        "print(\"sentence9: \", sentence9._.has_coref)\n",
        "print(\"sentence10: \", sentence10._.coref_clusters)\n",
        "print(\"sentence10: \", sentence10._.has_coref)\n",
        "\n"
      ],
      "metadata": {
        "id": "HfJ60Wig4V-2",
        "colab": {
          "base_uri": "https://localhost:8080/"
        },
        "outputId": "eb85e14e-efbe-411c-feb4-8877361618ff"
      },
      "execution_count": null,
      "outputs": [
        {
          "output_type": "stream",
          "name": "stdout",
          "text": [
            "sentence1:  [Every student: [Every student, his]]\n",
            "sentence1:  True\n",
            "sentence2:  [No student: [No student, his]]\n",
            "sentence2:  True\n",
            "sentence3:  [The dancer: [The dancer, herself]]\n",
            "sentence3:  True\n",
            "sentence4:  [Every dancer: [Every dancer, her]]\n",
            "sentence4:  True\n",
            "sentence5:  [every european country: [every european country, its]]\n",
            "sentence5:  True\n",
            "sentence6:  [Most computational linguists: [Most computational linguists, their]]\n",
            "sentence6:  True\n",
            "sentence7:  [themselves: [themselves, they, they]]\n",
            "sentence7:  True\n",
            "sentence8:  [The students: [The students, themselves]]\n",
            "sentence8:  True\n",
            "sentence9:  []\n",
            "sentence9:  False\n",
            "sentence10:  [One: [One, their]]\n",
            "sentence10:  True\n"
          ]
        }
      ]
    },
    {
      "cell_type": "code",
      "source": [
        "outputof10sente=[sentence1._.coref_clusters,sentence2._.coref_clusters,sentence3._.coref_clusters,sentence4._.coref_clusters,sentence5._.coref_clusters,sentence6._.coref_clusters,sentence7._.coref_clusters,sentence8._.coref_clusters,sentence9._.coref_clusters,sentence10._.coref_clusters]\n",
        "predicted_pairs_bound_anaphor=create_listoftupel(outputof10sente)\n",
        "\n",
        "goldenstandart_bound_anaphor=[('Every student', 'Every student'), ('Every student', 'his'), \n",
        "\t\t\t          ('No student', 'No student'), ('No student', 'his'), \n",
        "\t\t          \t('The dancer', 'The dancer'), ('The dancer', 'herself'), \n",
        "\t\t          \t('Every dancer', 'Every dancer'), ('Every dancer', 'her'), \n",
        "\t\t          \t('every european country', 'every european country'), ('every european country', 'its'),\n",
        "\t\t          \t('Most computational linguists', 'Most computational linguists'), ('Most computational linguists', 'their'), \n",
        "\t\t          \t('The child', 'The child'), ('The child', 'themselfes'),\n",
        "\t\t          \t('The students', 'The students'), ('The students', 'themselves'),\n",
        "                ('The driver', 'The driver'), ('The driver', 'itself'),\n",
        "                ('One', 'One'), ('One', 'their')]\n",
        "\n",
        "print(predicted_pairs_bound_anaphor)\n"
      ],
      "metadata": {
        "colab": {
          "base_uri": "https://localhost:8080/"
        },
        "outputId": "07a6ef3a-309d-45ba-fdd7-2accc4b6f712",
        "id": "Ta0OT7xLXmsf"
      },
      "execution_count": null,
      "outputs": [
        {
          "output_type": "stream",
          "name": "stdout",
          "text": [
            "[('Every student', 'Every student'), ('Every student', 'his'), ('No student', 'No student'), ('No student', 'his'), ('The dancer', 'The dancer'), ('The dancer', 'herself'), ('Every dancer', 'Every dancer'), ('Every dancer', 'her'), ('every european country', 'every european country'), ('every european country', 'its'), ('Most computational linguists', 'Most computational linguists'), ('Most computational linguists', 'their'), ('themselves', 'themselves'), ('themselves', 'they'), ('The students', 'The students'), ('The students', 'themselves'), ('One', 'One'), ('One', 'their')]\n"
          ]
        }
      ]
    },
    {
      "cell_type": "code",
      "source": [
        "precision,recall,f_score=calculate_precision_recall_f_score(predicted_pairs_bound_anaphor,goldenstandart_bound_anaphor)"
      ],
      "metadata": {
        "id": "gE2mwNIyfnJb"
      },
      "execution_count": null,
      "outputs": []
    },
    {
      "cell_type": "code",
      "source": [
        "print(\"Gebundene Variablen Ergebnisse:\" )\n",
        "print(\"\")\n",
        "\n",
        "print(\"Precision: {:.2f}\".format(precision))\n",
        "print(\"Recall: {:.2f}\".format(recall))\n",
        "print(\"F-score: {:.2f}\".format(f_score))"
      ],
      "metadata": {
        "colab": {
          "base_uri": "https://localhost:8080/"
        },
        "id": "HkbKrOq0fr6p",
        "outputId": "212fce91-4a7c-4cb3-bf1e-cc4a3879e627"
      },
      "execution_count": null,
      "outputs": [
        {
          "output_type": "stream",
          "name": "stdout",
          "text": [
            "Gebundene Variablen Ergebnisse:\n",
            "\n",
            "Precision: 0.89\n",
            "Recall: 0.80\n",
            "F-score: 0.84\n"
          ]
        }
      ]
    },
    {
      "cell_type": "markdown",
      "source": [
        "###Koreferente Nominalphrasen"
      ],
      "metadata": {
        "id": "Ws0KDhANq0yb"
      }
    },
    {
      "cell_type": "code",
      "source": [
        "#Koreferente Nominalphrasen\n",
        "\n",
        "sentence1 = nlp(\"The project leader is refusing to help. The jerk thinks only of himself.\")\n",
        "sentence2 = nlp(\"Some of our colleagues are going to be supportive. These kinds of people will earn our gratitude\")\n",
        "sentence3 = nlp(\"The head doctor makes big visits at hospital. This physician doesn't know any patients\")\n",
        "sentence4 = nlp(\"The teacher is coming next monday. This professor is finally coming back\")\n",
        "sentence5 = nlp(\"The teacher is coming next monday. The professor is finally coming back\")\n",
        "\n",
        "print(\"sentence1: \", sentence1._.coref_clusters)\n",
        "print(\"sentence1: \", sentence1._.has_coref)\n",
        "\n",
        "print(\"sentence2: \", sentence2._.coref_clusters)\n",
        "print(\"sentence2: \", sentence2._.has_coref)\n",
        "\n",
        "print(\"sentence3: \", sentence3._.coref_clusters)\n",
        "print(\"sentence3: \", sentence3._.has_coref)\n",
        "\n",
        "print(\"sentence4: \", sentence4._.coref_clusters)\n",
        "print(\"sentence4: \", sentence4._.has_coref)\n",
        "\n",
        "print(\"sentence5: \", sentence5._.coref_clusters)\n",
        "print(\"sentence5: \", sentence5._.has_coref)"
      ],
      "metadata": {
        "id": "RmOVV0pzxr4j",
        "colab": {
          "base_uri": "https://localhost:8080/"
        },
        "outputId": "c5796da3-4e92-4c93-b8e0-c274df2539f4"
      },
      "execution_count": null,
      "outputs": [
        {
          "output_type": "stream",
          "name": "stdout",
          "text": [
            "sentence1:  [The jerk: [The jerk, himself]]\n",
            "sentence1:  True\n",
            "sentence2:  [our: [our, our]]\n",
            "sentence2:  True\n",
            "sentence3:  [The head doctor: [The head doctor, This physician]]\n",
            "sentence3:  True\n",
            "sentence4:  [The teacher: [The teacher, This professor]]\n",
            "sentence4:  True\n",
            "sentence5:  []\n",
            "sentence5:  False\n"
          ]
        }
      ]
    },
    {
      "cell_type": "code",
      "source": [
        "outputof8sente=[sentence1._.coref_clusters,sentence2._.coref_clusters,sentence3._.coref_clusters,sentence4._.coref_clusters,sentence5._.coref_clusters]\n",
        "\n",
        "predicted_pairs_koreferent_np=create_listoftupel(outputof8sente)\n",
        "\n",
        "goldenstandart_koreferent_np= [(\"The project leader\", \"The project leader\"),(\"The project leader\", \"The jerk\"),\n",
        "\t\t\t            (\"Some of our colleagues\", \"Some of our colleagues\"),(\"Some of our colleagues\", \"These kinds of people\"),\n",
        "\t\t            \t(\"The head doctor\", \"The head doctor\"),(\"The head doctor\", \"This physician\"),\n",
        "\t\t            \t(\"The teacher\", \"The teacher\"),(\"The teacher\", \"This professor\"),\n",
        "\t\t            \t(\"The teacher\", \"The teacher\"),(\"The teacher\", \"The professor\")]\n",
        "\n",
        "\n",
        "print(predicted_pairs_koreferent_np)"
      ],
      "metadata": {
        "id": "e2X9LAj9j0m7",
        "colab": {
          "base_uri": "https://localhost:8080/"
        },
        "outputId": "93bee3d0-f216-483a-f460-b1b2710c1451"
      },
      "execution_count": null,
      "outputs": [
        {
          "output_type": "stream",
          "name": "stdout",
          "text": [
            "[('The jerk', 'The jerk'), ('The jerk', 'himself'), ('our', 'our'), ('our', 'our'), ('The head doctor', 'The head doctor'), ('The head doctor', 'This physician'), ('The teacher', 'The teacher'), ('The teacher', 'This professor')]\n"
          ]
        }
      ]
    },
    {
      "cell_type": "code",
      "source": [
        "precision,recall,f_score=calculate_precision_recall_f_score(predicted_pairs_koreferent_np,goldenstandart_koreferent_np)"
      ],
      "metadata": {
        "id": "b8a5cJR4iQAz"
      },
      "execution_count": null,
      "outputs": []
    },
    {
      "cell_type": "code",
      "source": [
        "print(\"Ergebnisse der Koreferente Nominalphrasen: \" )\n",
        "print(\"\")\n",
        "print(\"Precision: {:.2f}\".format(precision))\n",
        "print(\"Recall: {:.2f}\".format(recall))\n",
        "print(\"F-score: {:.2f}\".format(f_score))"
      ],
      "metadata": {
        "colab": {
          "base_uri": "https://localhost:8080/"
        },
        "id": "hT3-ANwAi4ou",
        "outputId": "0e9fbbe6-164a-4792-d6a7-1c1836598203"
      },
      "execution_count": null,
      "outputs": [
        {
          "output_type": "stream",
          "name": "stdout",
          "text": [
            "Ergebnisse der Koreferente Nominalphrasen: \n",
            "\n",
            "Precision: 0.50\n",
            "Recall: 0.40\n",
            "F-score: 0.44\n"
          ]
        }
      ]
    },
    {
      "cell_type": "markdown",
      "source": [
        "###Gebundene Antezedenzen"
      ],
      "metadata": {
        "id": "WFmeazyqquyW"
      }
    },
    {
      "cell_type": "code",
      "source": [
        "# Gebundene Antezedenzen\n",
        "sentence1 = nlp(\"Eva and John said they like fish, but he prefers sushi.\") \n",
        "sentence2 = nlp(\"Alice and Bob said they like potatoes, but she prefers sushi.\") \n",
        "sentence3 = nlp(\"Mary and Sam left the party. They arrived home together.\")\n",
        "sentence4 = nlp(\"Arthur and Jacky are the best team, i think they will win, but he is better.\")  \n",
        "sentence5 = nlp(\"James met Annie. He greeted her. They went to the movies.\")\n",
        "\n",
        "print(\"sentence1: \", sentence1._.coref_clusters)\n",
        "print(\"sentence1: \", sentence1._.has_coref)\n",
        "\n",
        "print(\"sentence2: \", sentence2._.coref_clusters)\n",
        "print(\"sentence2: \", sentence2._.has_coref)\n",
        "\n",
        "print(\"sentence3: \", sentence3._.coref_clusters)\n",
        "print(\"sentence3: \", sentence3._.has_coref)\n",
        "\n",
        "print(\"sentence4: \", sentence4._.coref_clusters)\n",
        "print(\"sentence4: \", sentence4._.has_coref)\n",
        "\n",
        "print(\"sentence5: \", sentence5._.coref_clusters)\n",
        "print(\"sentence5: \", sentence5._.has_coref)\n"
      ],
      "metadata": {
        "colab": {
          "base_uri": "https://localhost:8080/"
        },
        "id": "46ngOCplHhv4",
        "outputId": "ee6bc21a-d504-4260-97d5-5206bb2de633"
      },
      "execution_count": null,
      "outputs": [
        {
          "output_type": "stream",
          "name": "stdout",
          "text": [
            "sentence1:  [Eva and John: [Eva and John, they], John: [John, he]]\n",
            "sentence1:  True\n",
            "sentence2:  [Alice: [Alice, she], Alice and Bob: [Alice and Bob, they]]\n",
            "sentence2:  True\n",
            "sentence3:  [Mary and Sam: [Mary and Sam, They]]\n",
            "sentence3:  True\n",
            "sentence4:  [Arthur and Jacky: [Arthur and Jacky, they, he]]\n",
            "sentence4:  True\n",
            "sentence5:  [James: [James, He], Annie: [Annie, her]]\n",
            "sentence5:  True\n"
          ]
        }
      ]
    },
    {
      "cell_type": "code",
      "source": [
        "outputof8sente=[sentence1._.coref_clusters,sentence2._.coref_clusters,sentence3._.coref_clusters,sentence4._.coref_clusters,sentence5._.coref_clusters]\n",
        "\n",
        "predicted_pairs_split_antecedent=create_listoftupel(outputof8sente)\n",
        "\n",
        "goldenstandart_split_antecedent= [('Eva and John', 'Eva and John'), ('Eva and John', 'they'), ('John', 'John'), ('John', 'he'), \n",
        "\t\t\t\t\t\t\t\t\t('Alice', 'Alice'), ('Alice', 'she'), ('Alice and Bob', 'Alice and Bob'), ('Alice and Bob', 'they'), \n",
        "\t\t\t\t\t\t\t\t\t('Mary and Sam', 'Mary and Sam'), ('Mary and Sam', 'They'), \n",
        "\t\t\t\t\t\t\t\t\t('Arthur and Jacky', 'Arthur and Jacky'), ('Arthur and Jacky', 'they'), (\"Arthur\", \"Arthur\"),(\"Arthur\",\"he\"),\n",
        "\t\t\t\t\t\t\t\t\t('James', 'James'), ('James', 'He'), ('Annie', 'Annie'), ('Annie', 'her'), (\"James Annie\", \"James Annie\"), (\"James Annie\", \"they\")]\n",
        "\n",
        "\n",
        "\n",
        "print(predicted_pairs_split_antecedent)"
      ],
      "metadata": {
        "colab": {
          "base_uri": "https://localhost:8080/"
        },
        "outputId": "0f04264a-c0fe-4f8c-883e-e0b80dfcd934",
        "id": "x4PQ7iIqj5k4"
      },
      "execution_count": null,
      "outputs": [
        {
          "output_type": "stream",
          "name": "stdout",
          "text": [
            "[('Eva and John', 'Eva and John'), ('Eva and John', 'they'), ('John', 'John'), ('John', 'he'), ('Alice', 'Alice'), ('Alice', 'she'), ('Alice and Bob', 'Alice and Bob'), ('Alice and Bob', 'they'), ('Mary and Sam', 'Mary and Sam'), ('Mary and Sam', 'They'), ('Arthur and Jacky', 'Arthur and Jacky'), ('Arthur and Jacky', 'they'), ('James', 'James'), ('James', 'He'), ('Annie', 'Annie'), ('Annie', 'her')]\n"
          ]
        }
      ]
    },
    {
      "cell_type": "code",
      "source": [
        "precision,recall,f_score=calculate_precision_recall_f_score(predicted_pairs_split_antecedent,goldenstandart_split_antecedent)"
      ],
      "metadata": {
        "id": "-AB02djrqEEK"
      },
      "execution_count": null,
      "outputs": []
    },
    {
      "cell_type": "code",
      "source": [
        "print(\"Gebundene Antezedenzen Ergebnisse:\" )\n",
        "print(\"\")\n",
        "print(\"Precision: {:.2f}\".format(precision))\n",
        "print(\"Recall: {:.2f}\".format(recall))\n",
        "print(\"F-score: {:.2f}\".format(f_score))"
      ],
      "metadata": {
        "colab": {
          "base_uri": "https://localhost:8080/"
        },
        "id": "TrzXq7h_iYVt",
        "outputId": "2da90e84-12e8-4cc2-f7a4-fefe5a69607a"
      },
      "execution_count": null,
      "outputs": [
        {
          "output_type": "stream",
          "name": "stdout",
          "text": [
            "Gebundene Antezedenzen Ergebnisse:\n",
            "\n",
            "Precision: 1.00\n",
            "Recall: 0.80\n",
            "F-score: 0.89\n"
          ]
        }
      ]
    },
    {
      "cell_type": "markdown",
      "source": [
        "###Non-Referring Expressions"
      ],
      "metadata": {
        "id": "Cy5SToPnsOZg"
      }
    },
    {
      "cell_type": "markdown",
      "source": [
        "####Apositiononen"
      ],
      "metadata": {
        "id": "FDU89C1LsXuy"
      }
    },
    {
      "cell_type": "code",
      "source": [
        "#Appositionen\n",
        "sentence1 = nlp(\"John, my youngest brother, is a student\")\n",
        "sentence2 = nlp(\"United, a unit of UAL, matched the fares\")\n",
        "sentence3 = nlp(\"Victoria Chen, CFO of Megabucks Banking, saw ...\")\n",
        "sentence4 = nlp(\"my sister, a doctor whose name is Alice Smith\")\n",
        "sentence5 = nlp(\"My sister, Alice Smith, likes jelly beans.\")\n",
        "\n",
        "print(\"Alle Phänomene werden richitg erkannt und mit False klassifiziert.\")\n",
        "print(\"sentence1: \", sentence1._.coref_clusters)\n",
        "print(\"sentence1: \", sentence1._.has_coref)\n",
        "\n",
        "print(\"sentence2: \", sentence2._.coref_clusters)\n",
        "print(\"sentence2: \", sentence2._.has_coref)\n",
        "\n",
        "print(\"sentence3: \", sentence3._.coref_clusters)\n",
        "print(\"sentence3: \", sentence3._.has_coref)\n",
        "\n",
        "print(\"sentence4: \", sentence4._.coref_clusters)\n",
        "print(\"sentence4: \", sentence4._.has_coref)\n",
        "\n",
        "print(\"sentence5: \", sentence5._.coref_clusters)\n",
        "print(\"sentence5: \", sentence5._.has_coref)"
      ],
      "metadata": {
        "colab": {
          "base_uri": "https://localhost:8080/"
        },
        "id": "XvYVfNDFOtSn",
        "outputId": "80f33744-8ecb-4490-942f-65d35dc5f971"
      },
      "execution_count": null,
      "outputs": [
        {
          "output_type": "stream",
          "name": "stdout",
          "text": [
            "Alle Phänomene werden richitg erkannt und mit False klassifiziert.\n",
            "sentence1:  []\n",
            "sentence1:  False\n",
            "sentence2:  []\n",
            "sentence2:  False\n",
            "sentence3:  []\n",
            "sentence3:  False\n",
            "sentence4:  []\n",
            "sentence4:  False\n",
            "sentence5:  []\n",
            "sentence5:  False\n"
          ]
        }
      ]
    },
    {
      "cell_type": "markdown",
      "source": [
        "####Prädikative Nominalphrasen"
      ],
      "metadata": {
        "id": "0_-YLwnAsi1b"
      }
    },
    {
      "cell_type": "code",
      "source": [
        "# Prädikateve NPs\n",
        "sentence1 = nlp(\"In United is a unit of UAL\")\n",
        "sentence2 = nlp(\"She was our friend\")\n",
        "sentence3 = nlp(\"That is an excuse\")\n",
        "sentence4 = nlp(\"Joe Biden is the President of the United State\")\n",
        "\n",
        "print(\"Alle Phänomene werden richitg erkannt und mit False klassifiziert.\")\n",
        "print(\"\")\n",
        "print(\"sentence1: \", sentence1._.coref_clusters)\n",
        "print(\"sentence1: \", sentence1._.has_coref)\n",
        "\n",
        "print(\"sentence2: \", sentence2._.coref_clusters)\n",
        "print(\"sentence2: \", sentence2._.has_coref)\n",
        "\n",
        "print(\"sentence3: \", sentence3._.coref_clusters)\n",
        "print(\"sentence3: \", sentence3._.has_coref)\n",
        "\n",
        "print(\"sentence4: \", sentence4._.coref_clusters)\n",
        "print(\"sentence4: \", sentence4._.has_coref)"
      ],
      "metadata": {
        "colab": {
          "base_uri": "https://localhost:8080/"
        },
        "id": "SQ0oh9SRV1EG",
        "outputId": "2e377a3c-879c-4a63-e315-29c2141aa018"
      },
      "execution_count": null,
      "outputs": [
        {
          "output_type": "stream",
          "name": "stdout",
          "text": [
            "Alle Phänomene werden richitg erkannt und mit False klassifiziert.\n",
            "\n",
            "sentence1:  []\n",
            "sentence1:  False\n",
            "sentence2:  []\n",
            "sentence2:  False\n",
            "sentence3:  []\n",
            "sentence3:  False\n",
            "sentence4:  []\n",
            "sentence4:  False\n"
          ]
        }
      ]
    },
    {
      "cell_type": "markdown",
      "source": [
        "####Generische Nominalphrasen"
      ],
      "metadata": {
        "id": "SAdUVSoSsr8-"
      }
    },
    {
      "cell_type": "code",
      "source": [
        "# Generics\n",
        "# Der erste Satz wurde falsch annotiert, die anderen wurden erkannt\n",
        "sentence1 = nlp(\"I love mangos. They are very tasty\")\n",
        "sentence2 = nlp(\"In July in San Francisco you have to wear a jacket.\")\n",
        "sentence3 = nlp(\"You never count your money\")\n",
        "sentence4 = nlp (\"Swimming is a good sport for physical fitness\")\n",
        "\n",
        "print(\"sentence1: \", sentence1._.coref_clusters)\n",
        "print(\"sentence1: \", sentence1._.has_coref)\n",
        "\n",
        "print(\"sentence2: \", sentence2._.coref_clusters)\n",
        "print(\"sentence2: \", sentence2._.has_coref)\n",
        "\n",
        "print(\"sentence3: \", sentence3._.coref_clusters)\n",
        "print(\"sentence3: \", sentence3._.has_coref)\n",
        "\n",
        "print(\"sentence4: \", sentence4._.coref_clusters)\n",
        "print(\"sentence4: \", sentence4._.has_coref)"
      ],
      "metadata": {
        "colab": {
          "base_uri": "https://localhost:8080/"
        },
        "id": "QIF-juQ1Yo4g",
        "outputId": "0d7af670-908d-4244-bf25-ecc5646d745e"
      },
      "execution_count": null,
      "outputs": [
        {
          "output_type": "stream",
          "name": "stdout",
          "text": [
            "sentence1:  [mangos: [mangos, They]]\n",
            "sentence1:  True\n",
            "sentence2:  []\n",
            "sentence2:  False\n",
            "sentence3:  []\n",
            "sentence3:  False\n",
            "sentence4:  []\n",
            "sentence4:  False\n"
          ]
        }
      ]
    },
    {
      "cell_type": "markdown",
      "source": [
        "####Expletives"
      ],
      "metadata": {
        "id": "EN5G5jAus6FY"
      }
    },
    {
      "cell_type": "markdown",
      "source": [
        "#####Clefts"
      ],
      "metadata": {
        "id": "GRlR901rkWjO"
      }
    },
    {
      "cell_type": "code",
      "source": [
        "# Clefts\n",
        "sentence1 = nlp(\"It was Emma Goldman who founded Mother Earth\")\n",
        "sentence2 = nlp(\"It was my sister who stole the cookies.\")\n",
        "sentence3 = nlp(\"It was the rain that caused the cancellation of the game.\")\n",
        "sentence4 = nlp (\"It was the concert last night that I enjoyed the most.\")\n",
        "\n",
        "print(\"Clefts werden richtg erkannt:\")\n",
        "print(\"\")\n",
        "\n",
        "print(\"sentence1: \", sentence1._.coref_clusters)\n",
        "print(\"sentence1: \", sentence1._.has_coref)\n",
        "\n",
        "print(\"sentence2: \", sentence2._.coref_clusters)\n",
        "print(\"sentence2: \", sentence2._.has_coref)\n",
        "\n",
        "print(\"sentence3: \", sentence3._.coref_clusters)\n",
        "print(\"sentence3: \", sentence3._.has_coref)\n",
        "\n",
        "print(\"sentence4: \", sentence4._.coref_clusters)\n",
        "print(\"sentence4: \", sentence4._.has_coref)"
      ],
      "metadata": {
        "colab": {
          "base_uri": "https://localhost:8080/"
        },
        "id": "8pI8EkdKh7y5",
        "outputId": "6012f21e-a431-4b4e-9038-914012c82a74"
      },
      "execution_count": null,
      "outputs": [
        {
          "output_type": "stream",
          "name": "stdout",
          "text": [
            "Clefts werden richtg erkannt:\n",
            "\n",
            "sentence1:  []\n",
            "sentence1:  False\n",
            "sentence2:  []\n",
            "sentence2:  False\n",
            "sentence3:  []\n",
            "sentence3:  False\n",
            "sentence4:  []\n",
            "sentence4:  False\n"
          ]
        }
      ]
    },
    {
      "cell_type": "markdown",
      "source": [
        "#####Extraposition"
      ],
      "metadata": {
        "id": "h2XWWh3GkeDz"
      }
    },
    {
      "cell_type": "code",
      "source": [
        "#Extrapositionen\n",
        "sentence1 = nlp(\"It surprised me that there was a herring hanging on her wall.\")\n",
        "sentence2 = nlp(\"I believe that it will rain tomorrow. \")\n",
        "sentence3 = nlp(\"It seems that the new restaurant is very popular. \")\n",
        "sentence4 = nlp (\"He suggested that we go to the park.\")\n",
        "\n",
        "print(\"Extrapositionen werden richtig erkannt:\")\n",
        "print(\"\")\n",
        "print(\"sentence1: \", sentence1._.coref_clusters)\n",
        "print(\"sentence1: \", sentence1._.has_coref)\n",
        "\n",
        "print(\"sentence2: \", sentence2._.coref_clusters)\n",
        "print(\"sentence2: \", sentence2._.has_coref)\n",
        "\n",
        "print(\"sentence3: \", sentence3._.coref_clusters)\n",
        "print(\"sentence3: \", sentence3._.has_coref)\n",
        "\n",
        "print(\"sentence4: \", sentence4._.coref_clusters)\n",
        "print(\"sentence4: \", sentence4._.has_coref)"
      ],
      "metadata": {
        "colab": {
          "base_uri": "https://localhost:8080/"
        },
        "id": "WKwVhZ8Ukpnm",
        "outputId": "04ad6ca5-e0c4-4e16-dacb-7e52d1c67812"
      },
      "execution_count": null,
      "outputs": [
        {
          "output_type": "stream",
          "name": "stdout",
          "text": [
            "Extrapositionen werden richtig erkannt:\n",
            "\n",
            "sentence1:  []\n",
            "sentence1:  False\n",
            "sentence2:  []\n",
            "sentence2:  False\n",
            "sentence3:  []\n",
            "sentence3:  False\n",
            "sentence4:  []\n",
            "sentence4:  False\n"
          ]
        }
      ]
    },
    {
      "cell_type": "code",
      "source": [
        "#Pleonastic\n",
        "sentence1 = nlp(\"it is raining outside\")\n",
        "sentence2 = nlp(\"hit it of\")\n",
        "sentence3 = nlp(\"It seems that you are right.\")\n",
        "sentence4 = nlp (\"There are a lot of people here today.\")\n",
        "\n",
        "print(\"Pleonastic werden richtig erkannt:\")\n",
        "print(\"\")\n",
        "print(\"sentence1: \", sentence1._.coref_clusters)\n",
        "print(\"sentence1: \", sentence1._.has_coref)\n",
        "\n",
        "print(\"sentence2: \", sentence2._.coref_clusters)\n",
        "print(\"sentence2: \", sentence2._.has_coref)\n",
        "\n",
        "print(\"sentence3: \", sentence3._.coref_clusters)\n",
        "print(\"sentence3: \", sentence3._.has_coref)\n",
        "\n",
        "print(\"sentence4: \", sentence4._.coref_clusters)\n",
        "print(\"sentence4: \", sentence4._.has_coref)"
      ],
      "metadata": {
        "colab": {
          "base_uri": "https://localhost:8080/"
        },
        "id": "WnJdvafPgpL0",
        "outputId": "40c90080-4cd5-4373-a64f-577201e02b5d"
      },
      "execution_count": null,
      "outputs": [
        {
          "output_type": "stream",
          "name": "stdout",
          "text": [
            "Pleonastic werden richtig erkannt:\n",
            "\n",
            "sentence1:  []\n",
            "sentence1:  False\n",
            "sentence2:  []\n",
            "sentence2:  False\n",
            "sentence3:  []\n",
            "sentence3:  False\n",
            "sentence4:  []\n",
            "sentence4:  False\n"
          ]
        }
      ]
    },
    {
      "cell_type": "code",
      "source": [
        "# Die lange Sätze funtkionieren teilweise nicht. bzw. werden vom System nicht richtig erkannt. \n",
        "# Satz eins funktioniert nicht gut, Satz zwei wird erkannt.\n",
        "\n",
        "#Beispiele:\n",
        "sentence1 = nlp(\"Victoria Chen, CFO of Megabucks Banking, saw her pay jump to $2.3 million, as the 38-year-old became the company’s president. It is widely known that she came to Megabucks from rival Lotsabucks\")\n",
        "sentence2= nlp(\"Beispiel: John is studying computational linguistics at „Heinrich-Heine-Universität”. His study course is very modern. He loves it. We are talking about him.\")\n",
        "print(\"sentence1: \", sentence1._.coref_clusters)\n",
        "print(\"sentence1: \", sentence1._.has_coref)\n",
        "\n",
        "print(\"sentence2: \", sentence2._.coref_clusters)\n",
        "print(\"sentence2: \", sentence2._.has_coref)\n"
      ],
      "metadata": {
        "id": "4USRSJOHkyPX",
        "colab": {
          "base_uri": "https://localhost:8080/"
        },
        "outputId": "13b2346c-b486-4f40-8842-4ba4349c1cbc"
      },
      "execution_count": null,
      "outputs": [
        {
          "output_type": "stream",
          "name": "stdout",
          "text": [
            "sentence1:  [her: [her, she]]\n",
            "sentence1:  True\n",
            "sentence2:  [John: [John, His, He, him], His study course: [His study course, it]]\n",
            "sentence2:  True\n"
          ]
        }
      ]
    },
    {
      "cell_type": "markdown",
      "source": [
        "###Evaluation"
      ],
      "metadata": {
        "id": "xq92nJ1Lg-zC"
      }
    },
    {
      "cell_type": "code",
      "source": [
        "from matplotlib import pyplot as plt\n",
        "import matplotlib.pyplot as plt"
      ],
      "metadata": {
        "id": "73IeifcyJs2f"
      },
      "execution_count": null,
      "outputs": []
    },
    {
      "cell_type": "code",
      "source": [
        "# Recall\n",
        "x = [0.80, 0.45, 0.80, 0.40, 0.80]\n",
        "y = [\"Anaph\", \"Kataph\", \"Bound V\", \"Koref NPs\", \"Split Antezend.\"]\n",
        "\n",
        "print(\"Recall-Ergebnisse: \")\n",
        "plt.bar(y, x)\n",
        "plt.title(\"Recall Werte\")\n",
        "plt.xlabel(\"Phänomene\")\n",
        "plt.ylabel(\"Recall\")\n",
        "plt.show()\n"
      ],
      "metadata": {
        "colab": {
          "base_uri": "https://localhost:8080/",
          "height": 312
        },
        "id": "ieunQW17KF7j",
        "outputId": "8dd3905e-8a1f-443d-8cbf-f6a1423426c3"
      },
      "execution_count": null,
      "outputs": [
        {
          "output_type": "stream",
          "name": "stdout",
          "text": [
            "Recall-Ergebnisse: \n"
          ]
        },
        {
          "output_type": "display_data",
          "data": {
            "text/plain": [
              "<Figure size 432x288 with 1 Axes>"
            ],
            "image/png": "[encoded data removed]"
          },
          "metadata": {
            "needs_background": "light"
          }
        }
      ]
    },
    {
      "cell_type": "code",
      "source": [
        "# Precision\n",
        "x = [0.91, 0.90, 0.89, 0.50, 1.00]\n",
        "y = [\"Anaph\", \"Kataph\", \"Bound V\", \"Koref NPs\", \"Split Anteced.\"]\n",
        "\n",
        "print(\"Precision-Ergebnisse: \")\n",
        "plt.bar(y, x)\n",
        "plt.title(\"Precision Werte\")\n",
        "plt.xlabel(\"Phänomene\")\n",
        "plt.ylabel(\"Precision\")\n",
        "plt.show()"
      ],
      "metadata": {
        "colab": {
          "base_uri": "https://localhost:8080/",
          "height": 312
        },
        "id": "4zQ9QgnkN_9D",
        "outputId": "890116cf-f930-452b-9f74-7803dd916444"
      },
      "execution_count": null,
      "outputs": [
        {
          "output_type": "stream",
          "name": "stdout",
          "text": [
            "Precision-Ergebnisse: \n"
          ]
        },
        {
          "output_type": "display_data",
          "data": {
            "text/plain": [
              "<Figure size 432x288 with 1 Axes>"
            ],
            "image/png": "[encoded data removed]"
          },
          "metadata": {
            "needs_background": "light"
          }
        }
      ]
    },
    {
      "cell_type": "code",
      "source": [
        "# F-score\n",
        "x = [0.85, 0.60, 0.84, 0.44, 0.89]\n",
        "y = [\"Anaph\", \"Kataph\", \"Bound V\", \"Koref NPs\", \"Split Anteced.\"]\n",
        "\n",
        "print(\"F-Score-Ergebnisse: \")\n",
        "plt.bar(y, x)\n",
        "plt.title(\"F-Score Werte\")\n",
        "plt.xlabel(\"Phänomene\")\n",
        "plt.ylabel(\"F-Score\")\n",
        "plt.show()"
      ],
      "metadata": {
        "colab": {
          "base_uri": "https://localhost:8080/",
          "height": 312
        },
        "id": "Hkbtg1a_KwMx",
        "outputId": "52c473c3-6326-4e76-aeec-2a6caef2fcaa"
      },
      "execution_count": null,
      "outputs": [
        {
          "output_type": "stream",
          "name": "stdout",
          "text": [
            "F-Score-Ergebnisse: \n"
          ]
        },
        {
          "output_type": "display_data",
          "data": {
            "text/plain": [
              "<Figure size 432x288 with 1 Axes>"
            ],
            "image/png": "[encoded data removed]"
          },
          "metadata": {
            "needs_background": "light"
          }
        }
      ]
    }
  ]
}